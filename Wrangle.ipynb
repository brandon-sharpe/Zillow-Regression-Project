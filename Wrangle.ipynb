{
 "cells": [
  {
   "cell_type": "code",
   "execution_count": 5,
   "id": "ee85dbf3",
   "metadata": {},
   "outputs": [],
   "source": [
    "import warnings\n",
    "warnings.filterwarnings(\"ignore\")\n",
    "import pandas as pd\n",
    "import numpy as np\n",
    "import os\n",
    "from env import user, host, password\n",
    "import matplotlib.pyplot as plt\n",
    "import seaborn as sns\n",
    "import scipy.stats as stats\n",
    "from sklearn.model_selection import train_test_split\n",
    "import sklearn.preprocessing\n",
    "\n",
    "#**************************************************Acquire*******************************************************\n",
    "\n",
    "\n",
    "def get_connection(db, username=user, host=host, password=password):\n",
    "    '''\n",
    "    Creates a connection URL\n",
    "    '''\n",
    "    return f'mysql+pymysql://{username}:{password}@{host}/{db}'\n",
    "    \n",
    "def new_zillow_data():\n",
    "    '''\n",
    "    Returns zillow into a dataframe\n",
    "    '''\n",
    "    sql_query = ''' SELECT * from properties_2017\n",
    "    left join airconditioningtype on properties_2017.airconditioningtypeid = airconditioningtype.airconditioningtypeid\n",
    "    join predictions_2017 using(parcelid)\n",
    "    where transactiondate between \"2017-05-01\" and \"2017-08-31\"\n",
    "    and propertylandusetypeid in (261)'''\n",
    "    df = pd.read_sql(sql_query, get_connection('zillow'))\n",
    "    return df \n",
    "\n",
    "def get_zillow_data():\n",
    "    '''get connection, returns zillow into a dataframe and creates a csv for us'''\n",
    "    if os.path.isfile('zillow.csv'):\n",
    "        df = pd.read_csv('zillow.csv', index_col=0)\n",
    "    else:\n",
    "        df = new_zillow_data()\n",
    "        df.to_csv('zillow.csv')\n",
    "    return df\n",
    "\n",
    "def clean_zillow(df):\n",
    "    '''\n",
    "    this function takes in an unclean zillow df and does the following:\n",
    "    1.) keeps only columns we need for the project\n",
    "    2.) drops nulls\n",
    "    3.) renames columns\n",
    "    '''\n",
    "    #select features for df, took these features from my acquire exercise\n",
    "    features = ['parcelid', 'calculatedfinishedsquarefeet', 'bathroomcnt', 'bedroomcnt','poolcnt','taxvaluedollarcnt','yearbuilt','taxamount','fips']\n",
    "    df = df[features]\n",
    "\n",
    "    \n",
    "    #rename columns for easier use\n",
    "    df = df.rename(columns={\n",
    "                            'parcelid': 'parcel_id',\n",
    "                            'calculatedfinishedsquarefeet': 'sqft',\n",
    "                            'bathroomcnt': 'bathrooms',\n",
    "                            'bedroomcnt': 'bedrooms',\n",
    "                            'poolcnt': 'has_pool',\n",
    "                            'taxvaluedollarcnt':'tax_value',\n",
    "                            'yearbuilt':'year_built',\n",
    "                            'taxamount': 'tax_amount'\n",
    "        \n",
    "    })\n",
    "    \n",
    "    #set index\n",
    "    df = df.set_index('parcel_id')\n",
    "    df['has_pool'] = df.has_pool.fillna(value=0)\n",
    "    df = df.drop_duplicates()\n",
    "    df = df.dropna()\n",
    "    return df\n",
    "#**************************************************Remove Outliers*******************************************************\n",
    "\n",
    "def remove_outliers(df):\n",
    "    '''\n",
    "    This function takes in a dataframe\n",
    "    It outputs a the dataframe with the outliers that have a Z score above 3 or below -3 removed\n",
    "    '''\n",
    "    df = df[(np.abs(stats.zscore(df)) < 3).all(axis=1)]\n",
    "    return df\n",
    "\n",
    "#**************************************************Distributions*******************************************************\n",
    "\n",
    "def get_hist(df):\n",
    "    ''' Gets histographs of acquired continuous variables'''\n",
    "    \n",
    "    plt.figure(figsize=(16, 3))\n",
    "\n",
    "    # List of columns\n",
    "    cols = [col for col in df.columns if col not in ['fips', 'year_built']]\n",
    "\n",
    "    for i, col in enumerate(cols):\n",
    "\n",
    "        # i starts at 0, but plot nos should start at 1\n",
    "        plot_number = i + 1 \n",
    "\n",
    "        # Create subplot.\n",
    "        plt.subplot(1, len(cols), plot_number)\n",
    "\n",
    "        # Title with column name.\n",
    "        plt.title(col)\n",
    "\n",
    "        # Display histogram for column.\n",
    "        df[col].hist(bins=5)\n",
    "\n",
    "        # Hide gridlines.\n",
    "        plt.grid(False)\n",
    "\n",
    "        # turn off scientific notation\n",
    "        plt.ticklabel_format(useOffset=False)\n",
    "\n",
    "        plt.tight_layout()\n",
    "\n",
    "    plt.show()\n",
    "        \n",
    "        \n",
    "def get_box(df):\n",
    "    ''' Gets boxplots of acquired continuous variables'''\n",
    "    \n",
    "    # List of columns\n",
    "    cols = ['bedrooms', 'bathrooms', 'sqft', 'tax_value', 'tax_amount']\n",
    "\n",
    "    plt.figure(figsize=(16, 3))\n",
    "\n",
    "    for i, col in enumerate(cols):\n",
    "\n",
    "        # i starts at 0, but plot should start at 1\n",
    "        plot_number = i + 1 \n",
    "\n",
    "        # Create subplot.\n",
    "        plt.subplot(1, len(cols), plot_number)\n",
    "\n",
    "        # Title with column name.\n",
    "        plt.title(col)\n",
    "\n",
    "        # Display boxplot for column.\n",
    "        sns.boxplot(data=df[[col]])\n",
    "\n",
    "        # Hide gridlines.\n",
    "        plt.grid(False)\n",
    "\n",
    "        # sets proper spacing between plots\n",
    "        plt.tight_layout()\n",
    "\n",
    "    plt.show()\n",
    "#**************************************************Prepare*******************************************************\n",
    "\n",
    "def prepare_zillow():\n",
    "    '''acquires and prepares the zillow data for us. Drops all \n",
    "    outliers'''\n",
    "    # Get zillow file\n",
    "    df = get_zillow_data()\n",
    "    df = clean_zillow(df)\n",
    "    # Remove the outliers\n",
    "    df = remove_outliers(df)\n",
    "    slc =['bedrooms','sqft','tax_value']\n",
    "    df[slc] = df[slc].astype(int)\n",
    "    # converting column data thats categorical into objects so that tgey wont be used in mathmetics\n",
    "    df.fips = df.fips.astype(object)\n",
    "    df.year_built = df.year_built.astype(object)\n",
    "    df.has_pool=df.has_pool.astype(object)\n",
    "    # get distributions of numeric data\n",
    "    get_hist(df)\n",
    "    get_box(df)\n",
    "    # train/validate/test split\n",
    "    train_validate, test = train_test_split(df, test_size=.2, random_state=123)\n",
    "    train, validate = train_test_split(train_validate, test_size=.3, random_state=123)\n",
    "    return train, validate, test \n",
    "#**************************************************Wrangle*******************************************************\n",
    "\n",
    "\n",
    "def wrangle_zillow():\n",
    "    '''Acquire and prepare data from Zillow database for explore'''\n",
    "    train, validate, test = prepare_zillow()\n",
    "    \n",
    "    return train, validate, test"
   ]
  },
  {
   "cell_type": "code",
   "execution_count": 6,
   "id": "ce04206a",
   "metadata": {},
   "outputs": [
    {
     "data": {
      "image/png": "[encoded data removed]",
      "text/plain": [
       "<Figure size 1152x216 with 6 Axes>"
      ]
     },
     "metadata": {
      "needs_background": "light"
     },
     "output_type": "display_data"
    },
    {
     "data": {
      "image/png": "[encoded data removed]",
      "text/plain": [
       "<Figure size 1152x216 with 5 Axes>"
      ]
     },
     "metadata": {
      "needs_background": "light"
     },
     "output_type": "display_data"
    }
   ],
   "source": [
    "train, validate, test = wrangle_zillow()"
   ]
  },
  {
   "cell_type": "code",
   "execution_count": 8,
   "id": "17dc993c",
   "metadata": {},
   "outputs": [
    {
     "data": {
      "text/plain": [
       "27124"
      ]
     },
     "execution_count": 8,
     "metadata": {},
     "output_type": "execute_result"
    }
   ],
   "source": [
    "len(train)+len(validate)+len(test)"
   ]
  },
  {
   "cell_type": "code",
   "execution_count": null,
   "id": "0f635d46",
   "metadata": {},
   "outputs": [],
   "source": [
    "train.info()"
   ]
  },
  {
   "cell_type": "code",
   "execution_count": null,
   "id": "c97b9e6b",
   "metadata": {},
   "outputs": [],
   "source": []
  },
  {
   "cell_type": "code",
   "execution_count": null,
   "id": "bee44646",
   "metadata": {},
   "outputs": [],
   "source": [
    "df"
   ]
  },
  {
   "cell_type": "code",
   "execution_count": null,
   "id": "7be0fb38",
   "metadata": {},
   "outputs": [],
   "source": [
    "df.duplicated().value_counts()"
   ]
  },
  {
   "cell_type": "code",
   "execution_count": null,
   "id": "76d11ff9",
   "metadata": {},
   "outputs": [],
   "source": [
    "remove_outliers(df, k, col_list)\n"
   ]
  },
  {
   "cell_type": "code",
   "execution_count": null,
   "id": "f0f7387c",
   "metadata": {},
   "outputs": [],
   "source": [
    "def prepare_zillow():\n",
    "    '''acquires and prepares the zillow data for us. Drops all \n",
    "    outliers'''\n",
    "    # Get zillow file\n",
    "    df = get_zillow_data()\n",
    "    df = clean_zillow(df)\n",
    "    return df"
   ]
  },
  {
   "cell_type": "code",
   "execution_count": null,
   "id": "6f727fdb",
   "metadata": {},
   "outputs": [],
   "source": [
    "prepare_zillow()"
   ]
  },
  {
   "cell_type": "code",
   "execution_count": null,
   "id": "bc298346",
   "metadata": {},
   "outputs": [],
   "source": [
    "def prepare_zillow():\n",
    "    '''acquires and prepares the zillow data for us. Drops all \n",
    "    outliers'''\n",
    "    # Get zillow file\n",
    "    df = get_zillow_data()\n",
    "    df = clean_zillow(df)\n",
    "    # Remove the outliers\n",
    "    return df"
   ]
  },
  {
   "cell_type": "code",
   "execution_count": null,
   "id": "8e37d189",
   "metadata": {},
   "outputs": [],
   "source": [
    "df = prepare_zillow()"
   ]
  },
  {
   "cell_type": "code",
   "execution_count": null,
   "id": "480c6a5d",
   "metadata": {},
   "outputs": [],
   "source": [
    "df"
   ]
  },
  {
   "cell_type": "code",
   "execution_count": null,
   "id": "c1cd17f3",
   "metadata": {},
   "outputs": [],
   "source": [
    "def remove_outliers(df, k, col_list):\n",
    "    ''' remove outliers from a list of columns in a dataframe \n",
    "        and return that dataframe\n",
    "    '''\n",
    "    \n",
    "    for col in col_list:\n",
    "\n",
    "        q1, q3 = df[col].quantile([.25, .75])  # get quartiles\n",
    "        \n",
    "        iqr = q3 - q1   # calculate interquartile range\n",
    "        \n",
    "        upper_bound = q3 + k * iqr   # get upper bound\n",
    "        lower_bound = q1 - k * iqr   # get lower bound\n",
    "\n",
    "        # return dataframe without outliers\n",
    "        \n",
    "        df1 = df[(df[col] > lower_bound) & (df[col] < upper_bound)]\n",
    "        \n",
    "    return df1"
   ]
  },
  {
   "cell_type": "code",
   "execution_count": null,
   "id": "998fc300",
   "metadata": {},
   "outputs": [],
   "source": [
    "remove_outliers(df,k=1.5 , col_list=df.columns)"
   ]
  },
  {
   "cell_type": "code",
   "execution_count": null,
   "id": "7ae93a10",
   "metadata": {},
   "outputs": [],
   "source": [
    "df"
   ]
  },
  {
   "cell_type": "code",
   "execution_count": null,
   "id": "fa0765d1",
   "metadata": {},
   "outputs": [],
   "source": []
  }
 ],
 "metadata": {
  "kernelspec": {
   "display_name": "Python 3",
   "language": "python",
   "name": "python3"
  },
  "language_info": {
   "codemirror_mode": {
    "name": "ipython",
    "version": 3
   },
   "file_extension": ".py",
   "mimetype": "text/x-python",
   "name": "python",
   "nbconvert_exporter": "python",
   "pygments_lexer": "ipython3",
   "version": "3.8.8"
  }
 },
 "nbformat": 4,
 "nbformat_minor": 5
}
