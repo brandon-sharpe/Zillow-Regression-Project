{
 "cells": [
  {
   "cell_type": "markdown",
   "id": "296061c8",
   "metadata": {},
   "source": [
    "# Zillow Regression Project"
   ]
  },
  {
   "cell_type": "code",
   "execution_count": 1,
   "id": "36e41fea",
   "metadata": {},
   "outputs": [],
   "source": [
    "# import basics\n",
    "import pandas as pd\n",
    "import numpy as np\n",
    "\n",
    "# import user-defined functions\n",
    "import wrangle,explore\n",
    "\n",
    "# import viz\n",
    "import matplotlib.pyplot as plt\n",
    "import seaborn as sns\n"
   ]
  },
  {
   "cell_type": "code",
   "execution_count": 2,
   "id": "633dd093",
   "metadata": {},
   "outputs": [],
   "source": [
    "# Lets pull in our data. Thanks to the wrangle function our dataframe \n",
    "# should contain a cleaned df with county(derived from fips code) and taxrate(found by\n",
    "#(tax amount / tax value)*100). For further look examine wrangle.py wrangle_zillow(). \n",
    "#Or venture into README.md\n",
    "\n",
    "train, validate, test = wrangle.wrangle_zillow()"
   ]
  },
  {
   "cell_type": "code",
   "execution_count": 3,
   "id": "ce997efa",
   "metadata": {},
   "outputs": [
    {
     "data": {
      "text/html": [
       "<div>\n",
       "<style scoped>\n",
       "    .dataframe tbody tr th:only-of-type {\n",
       "        vertical-align: middle;\n",
       "    }\n",
       "\n",
       "    .dataframe tbody tr th {\n",
       "        vertical-align: top;\n",
       "    }\n",
       "\n",
       "    .dataframe thead th {\n",
       "        text-align: right;\n",
       "    }\n",
       "</style>\n",
       "<table border=\"1\" class=\"dataframe\">\n",
       "  <thead>\n",
       "    <tr style=\"text-align: right;\">\n",
       "      <th></th>\n",
       "      <th>sqft</th>\n",
       "      <th>bathrooms</th>\n",
       "      <th>bedrooms</th>\n",
       "      <th>has_pool</th>\n",
       "      <th>tax_value</th>\n",
       "      <th>year_built</th>\n",
       "      <th>tax_amount</th>\n",
       "      <th>fips</th>\n",
       "      <th>county</th>\n",
       "      <th>tax_rate</th>\n",
       "    </tr>\n",
       "    <tr>\n",
       "      <th>parcel_id</th>\n",
       "      <th></th>\n",
       "      <th></th>\n",
       "      <th></th>\n",
       "      <th></th>\n",
       "      <th></th>\n",
       "      <th></th>\n",
       "      <th></th>\n",
       "      <th></th>\n",
       "      <th></th>\n",
       "      <th></th>\n",
       "    </tr>\n",
       "  </thead>\n",
       "  <tbody>\n",
       "    <tr>\n",
       "      <th>10876414</th>\n",
       "      <td>1044</td>\n",
       "      <td>2.0</td>\n",
       "      <td>3</td>\n",
       "      <td>0</td>\n",
       "      <td>394222</td>\n",
       "      <td>1954.0</td>\n",
       "      <td>4894.00</td>\n",
       "      <td>6037.0</td>\n",
       "      <td>LA</td>\n",
       "      <td>1.24</td>\n",
       "    </tr>\n",
       "    <tr>\n",
       "      <th>12528247</th>\n",
       "      <td>2358</td>\n",
       "      <td>2.0</td>\n",
       "      <td>4</td>\n",
       "      <td>0</td>\n",
       "      <td>1326298</td>\n",
       "      <td>1929.0</td>\n",
       "      <td>15625.69</td>\n",
       "      <td>6037.0</td>\n",
       "      <td>LA</td>\n",
       "      <td>1.18</td>\n",
       "    </tr>\n",
       "    <tr>\n",
       "      <th>11740891</th>\n",
       "      <td>2060</td>\n",
       "      <td>1.0</td>\n",
       "      <td>3</td>\n",
       "      <td>0</td>\n",
       "      <td>378901</td>\n",
       "      <td>1924.0</td>\n",
       "      <td>4663.60</td>\n",
       "      <td>6037.0</td>\n",
       "      <td>LA</td>\n",
       "      <td>1.23</td>\n",
       "    </tr>\n",
       "    <tr>\n",
       "      <th>11211538</th>\n",
       "      <td>1946</td>\n",
       "      <td>3.0</td>\n",
       "      <td>4</td>\n",
       "      <td>1</td>\n",
       "      <td>254400</td>\n",
       "      <td>1990.0</td>\n",
       "      <td>3904.99</td>\n",
       "      <td>6037.0</td>\n",
       "      <td>LA</td>\n",
       "      <td>1.53</td>\n",
       "    </tr>\n",
       "    <tr>\n",
       "      <th>14076657</th>\n",
       "      <td>1439</td>\n",
       "      <td>2.0</td>\n",
       "      <td>3</td>\n",
       "      <td>0</td>\n",
       "      <td>63641</td>\n",
       "      <td>1971.0</td>\n",
       "      <td>1020.36</td>\n",
       "      <td>6059.0</td>\n",
       "      <td>Orange</td>\n",
       "      <td>1.60</td>\n",
       "    </tr>\n",
       "  </tbody>\n",
       "</table>\n",
       "</div>"
      ],
      "text/plain": [
       "           sqft  bathrooms  bedrooms  has_pool  tax_value year_built  \\\n",
       "parcel_id                                                              \n",
       "10876414   1044        2.0         3         0     394222     1954.0   \n",
       "12528247   2358        2.0         4         0    1326298     1929.0   \n",
       "11740891   2060        1.0         3         0     378901     1924.0   \n",
       "11211538   1946        3.0         4         1     254400     1990.0   \n",
       "14076657   1439        2.0         3         0      63641     1971.0   \n",
       "\n",
       "           tax_amount    fips  county  tax_rate  \n",
       "parcel_id                                        \n",
       "10876414      4894.00  6037.0      LA      1.24  \n",
       "12528247     15625.69  6037.0      LA      1.18  \n",
       "11740891      4663.60  6037.0      LA      1.23  \n",
       "11211538      3904.99  6037.0      LA      1.53  \n",
       "14076657      1020.36  6059.0  Orange      1.60  "
      ]
     },
     "execution_count": 3,
     "metadata": {},
     "output_type": "execute_result"
    }
   ],
   "source": [
    "# Take a quick look at our df.head()\n",
    "train.head()"
   ]
  },
  {
   "cell_type": "code",
   "execution_count": 4,
   "id": "f91c16da",
   "metadata": {},
   "outputs": [
    {
     "name": "stdout",
     "output_type": "stream",
     "text": [
      "<class 'pandas.core.frame.DataFrame'>\n",
      "Int64Index: 15189 entries, 10876414 to 14264405\n",
      "Data columns (total 10 columns):\n",
      " #   Column      Non-Null Count  Dtype  \n",
      "---  ------      --------------  -----  \n",
      " 0   sqft        15189 non-null  int64  \n",
      " 1   bathrooms   15189 non-null  float64\n",
      " 2   bedrooms    15189 non-null  int64  \n",
      " 3   has_pool    15189 non-null  int64  \n",
      " 4   tax_value   15189 non-null  int64  \n",
      " 5   year_built  15189 non-null  object \n",
      " 6   tax_amount  15189 non-null  float64\n",
      " 7   fips        15189 non-null  object \n",
      " 8   county      15189 non-null  object \n",
      " 9   tax_rate    15189 non-null  float64\n",
      "dtypes: float64(3), int64(4), object(3)\n",
      "memory usage: 1.3+ MB\n"
     ]
    }
   ],
   "source": [
    "# Lets verify data is clean \n",
    "train.info()"
   ]
  },
  {
   "cell_type": "code",
   "execution_count": 5,
   "id": "59d14126",
   "metadata": {},
   "outputs": [
    {
     "data": {
      "image/png": "[encoded data removed]",
      "text/plain": [
       "<Figure size 1008x720 with 1 Axes>"
      ]
     },
     "metadata": {
      "needs_background": "light"
     },
     "output_type": "display_data"
    }
   ],
   "source": [
    "# Because I've already made tax rate and county lets take a look at the tax rate distibution \n",
    "# before tackling the machine learning model.\n",
    "# distribution of tax rates by county\n",
    "explore.tax_distro(train)"
   ]
  },
  {
   "cell_type": "markdown",
   "id": "8a6cf007",
   "metadata": {},
   "source": [
    "**KEY TAKEAWAYS:**\n",
    "    \n",
    "- *LA County had the most houses sold during this time period*"
   ]
  },
  {
   "cell_type": "code",
   "execution_count": null,
   "id": "ec6542e0",
   "metadata": {},
   "outputs": [],
   "source": []
  }
 ],
 "metadata": {
  "kernelspec": {
   "display_name": "Python 3",
   "language": "python",
   "name": "python3"
  },
  "language_info": {
   "codemirror_mode": {
    "name": "ipython",
    "version": 3
   },
   "file_extension": ".py",
   "mimetype": "text/x-python",
   "name": "python",
   "nbconvert_exporter": "python",
   "pygments_lexer": "ipython3",
   "version": "3.8.8"
  }
 },
 "nbformat": 4,
 "nbformat_minor": 5
}
