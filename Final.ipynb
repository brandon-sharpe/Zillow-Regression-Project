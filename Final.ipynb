{
 "cells": [
  {
   "cell_type": "markdown",
   "id": "296061c8",
   "metadata": {},
   "source": [
    "# Zillow Regression Project"
   ]
  },
  {
   "cell_type": "code",
   "execution_count": 1,
   "id": "36e41fea",
   "metadata": {},
   "outputs": [],
   "source": [
    "# import basics\n",
    "import pandas as pd\n",
    "import numpy as np\n",
    "from scipy import stats\n",
    "# import user-defined functions\n",
    "import wrangle,explore\n",
    "\n",
    "import sklearn.preprocessing\n",
    "from sklearn.preprocessing import PolynomialFeatures\n",
    "\n",
    "# import viz\n",
    "import matplotlib.pyplot as plt\n",
    "import seaborn as sns\n",
    "sns.set_theme(style=\"dark\")\n",
    "\n",
    "from sklearn.metrics import mean_squared_error, r2_score\n",
    "from sklearn.linear_model import LinearRegression, LassoLars,TweedieRegressor\n",
    "from sklearn.metrics import explained_variance_score"
   ]
  },
  {
   "cell_type": "code",
   "execution_count": 2,
   "id": "633dd093",
   "metadata": {},
   "outputs": [],
   "source": [
    "# Lets pull in our data. Thanks to the wrangle function our dataframe \n",
    "# should contain a cleaned df with county(derived from fips code) and taxrate(found by\n",
    "#(tax amount / tax value)*100). For further look examine wrangle.py wrangle_zillow(). \n",
    "#Or venture into README.md\n",
    "\n",
    "train, validate, test = wrangle.wrangle_zillow()"
   ]
  },
  {
   "cell_type": "code",
   "execution_count": 3,
   "id": "99b70d97",
   "metadata": {},
   "outputs": [
    {
     "data": {
      "text/html": [
       "<div>\n",
       "<style scoped>\n",
       "    .dataframe tbody tr th:only-of-type {\n",
       "        vertical-align: middle;\n",
       "    }\n",
       "\n",
       "    .dataframe tbody tr th {\n",
       "        vertical-align: top;\n",
       "    }\n",
       "\n",
       "    .dataframe thead th {\n",
       "        text-align: right;\n",
       "    }\n",
       "</style>\n",
       "<table border=\"1\" class=\"dataframe\">\n",
       "  <thead>\n",
       "    <tr style=\"text-align: right;\">\n",
       "      <th></th>\n",
       "      <th>sqft</th>\n",
       "      <th>bathrooms</th>\n",
       "      <th>bedrooms</th>\n",
       "      <th>has_pool</th>\n",
       "      <th>tax_value</th>\n",
       "      <th>year_built</th>\n",
       "      <th>tax_amount</th>\n",
       "      <th>fips</th>\n",
       "      <th>county</th>\n",
       "      <th>tax_rate</th>\n",
       "    </tr>\n",
       "    <tr>\n",
       "      <th>parcel_id</th>\n",
       "      <th></th>\n",
       "      <th></th>\n",
       "      <th></th>\n",
       "      <th></th>\n",
       "      <th></th>\n",
       "      <th></th>\n",
       "      <th></th>\n",
       "      <th></th>\n",
       "      <th></th>\n",
       "      <th></th>\n",
       "    </tr>\n",
       "  </thead>\n",
       "  <tbody>\n",
       "    <tr>\n",
       "      <th>10876414</th>\n",
       "      <td>1044</td>\n",
       "      <td>2.0</td>\n",
       "      <td>3</td>\n",
       "      <td>0</td>\n",
       "      <td>394222</td>\n",
       "      <td>1954.0</td>\n",
       "      <td>4894.00</td>\n",
       "      <td>6037.0</td>\n",
       "      <td>LA</td>\n",
       "      <td>1.24</td>\n",
       "    </tr>\n",
       "    <tr>\n",
       "      <th>12528247</th>\n",
       "      <td>2358</td>\n",
       "      <td>2.0</td>\n",
       "      <td>4</td>\n",
       "      <td>0</td>\n",
       "      <td>1326298</td>\n",
       "      <td>1929.0</td>\n",
       "      <td>15625.69</td>\n",
       "      <td>6037.0</td>\n",
       "      <td>LA</td>\n",
       "      <td>1.18</td>\n",
       "    </tr>\n",
       "    <tr>\n",
       "      <th>11740891</th>\n",
       "      <td>2060</td>\n",
       "      <td>1.0</td>\n",
       "      <td>3</td>\n",
       "      <td>0</td>\n",
       "      <td>378901</td>\n",
       "      <td>1924.0</td>\n",
       "      <td>4663.60</td>\n",
       "      <td>6037.0</td>\n",
       "      <td>LA</td>\n",
       "      <td>1.23</td>\n",
       "    </tr>\n",
       "    <tr>\n",
       "      <th>11211538</th>\n",
       "      <td>1946</td>\n",
       "      <td>3.0</td>\n",
       "      <td>4</td>\n",
       "      <td>1</td>\n",
       "      <td>254400</td>\n",
       "      <td>1990.0</td>\n",
       "      <td>3904.99</td>\n",
       "      <td>6037.0</td>\n",
       "      <td>LA</td>\n",
       "      <td>1.53</td>\n",
       "    </tr>\n",
       "    <tr>\n",
       "      <th>14076657</th>\n",
       "      <td>1439</td>\n",
       "      <td>2.0</td>\n",
       "      <td>3</td>\n",
       "      <td>0</td>\n",
       "      <td>63641</td>\n",
       "      <td>1971.0</td>\n",
       "      <td>1020.36</td>\n",
       "      <td>6059.0</td>\n",
       "      <td>Orange</td>\n",
       "      <td>1.60</td>\n",
       "    </tr>\n",
       "  </tbody>\n",
       "</table>\n",
       "</div>"
      ],
      "text/plain": [
       "           sqft  bathrooms  bedrooms  has_pool  tax_value  year_built  \\\n",
       "parcel_id                                                               \n",
       "10876414   1044        2.0         3         0     394222      1954.0   \n",
       "12528247   2358        2.0         4         0    1326298      1929.0   \n",
       "11740891   2060        1.0         3         0     378901      1924.0   \n",
       "11211538   1946        3.0         4         1     254400      1990.0   \n",
       "14076657   1439        2.0         3         0      63641      1971.0   \n",
       "\n",
       "           tax_amount    fips  county  tax_rate  \n",
       "parcel_id                                        \n",
       "10876414      4894.00  6037.0      LA      1.24  \n",
       "12528247     15625.69  6037.0      LA      1.18  \n",
       "11740891      4663.60  6037.0      LA      1.23  \n",
       "11211538      3904.99  6037.0      LA      1.53  \n",
       "14076657      1020.36  6059.0  Orange      1.60  "
      ]
     },
     "execution_count": 3,
     "metadata": {},
     "output_type": "execute_result"
    }
   ],
   "source": [
    "# Take a quick look at our df.head()\n",
    "train.head()"
   ]
  },
  {
   "cell_type": "code",
   "execution_count": 4,
   "id": "928f0d53",
   "metadata": {},
   "outputs": [
    {
     "data": {
      "text/plain": [
       "6037.0    9653\n",
       "6059.0    4200\n",
       "6111.0    1336\n",
       "Name: fips, dtype: int64"
      ]
     },
     "execution_count": 4,
     "metadata": {},
     "output_type": "execute_result"
    }
   ],
   "source": [
    "train.fips.value_counts()"
   ]
  },
  {
   "cell_type": "code",
   "execution_count": 5,
   "id": "a305f542",
   "metadata": {
    "scrolled": true
   },
   "outputs": [
    {
     "name": "stdout",
     "output_type": "stream",
     "text": [
      "<class 'pandas.core.frame.DataFrame'>\n",
      "Int64Index: 15189 entries, 10876414 to 14264405\n",
      "Data columns (total 10 columns):\n",
      " #   Column      Non-Null Count  Dtype  \n",
      "---  ------      --------------  -----  \n",
      " 0   sqft        15189 non-null  int64  \n",
      " 1   bathrooms   15189 non-null  float64\n",
      " 2   bedrooms    15189 non-null  int64  \n",
      " 3   has_pool    15189 non-null  int64  \n",
      " 4   tax_value   15189 non-null  int64  \n",
      " 5   year_built  15189 non-null  float64\n",
      " 6   tax_amount  15189 non-null  float64\n",
      " 7   fips        15189 non-null  object \n",
      " 8   county      15189 non-null  object \n",
      " 9   tax_rate    15189 non-null  float64\n",
      "dtypes: float64(4), int64(4), object(2)\n",
      "memory usage: 1.3+ MB\n"
     ]
    }
   ],
   "source": [
    "# Lets verify data is clean \n",
    "train.info()"
   ]
  },
  {
   "cell_type": "code",
   "execution_count": 6,
   "id": "59862f27",
   "metadata": {},
   "outputs": [
    {
     "data": {
      "image/png": "[encoded data removed]",
      "text/plain": [
       "<Figure size 1008x720 with 1 Axes>"
      ]
     },
     "metadata": {},
     "output_type": "display_data"
    }
   ],
   "source": [
    "# Because I've already made tax rate and county lets take a look at the tax rate distibution \n",
    "# before tackling the machine learning model.\n",
    "# distribution of tax rates by county\n",
    "explore.tax_distro(train)"
   ]
  },
  {
   "cell_type": "code",
   "execution_count": 7,
   "id": "f2d14a00",
   "metadata": {},
   "outputs": [
    {
     "data": {
      "text/plain": [
       "county\n",
       "LA         1.41\n",
       "Orange     1.21\n",
       "Ventura    1.20\n",
       "Name: tax_rate, dtype: float64"
      ]
     },
     "execution_count": 7,
     "metadata": {},
     "output_type": "execute_result"
    }
   ],
   "source": [
    "# Group the \n",
    "train.groupby('county').tax_rate.mean().round(2)"
   ]
  },
  {
   "cell_type": "markdown",
   "id": "4ba1f6f7",
   "metadata": {},
   "source": [
    "**KEY TAKEAWAYS:**\n",
    "    \n",
    "- *LA County had the most houses sold during this time period. Average Tax rate of %1.41*\n",
    "- *Orange County has the second most houses sold. Average Tax Rate of %1.21*\n",
    "- *Ventura County sold the least houses but also has the lowest average tax rate of %1.2*"
   ]
  },
  {
   "cell_type": "markdown",
   "id": "d9cf92b6",
   "metadata": {},
   "source": [
    "## Exploration"
   ]
  },
  {
   "cell_type": "markdown",
   "id": "246a0662",
   "metadata": {},
   "source": [
    "**Let's take a look at at the main project now.**\n"
   ]
  },
  {
   "cell_type": "code",
   "execution_count": 8,
   "id": "f1a557b0",
   "metadata": {
    "scrolled": false
   },
   "outputs": [
    {
     "data": {
      "image/png": "[encoded data removed]",
      "text/plain": [
       "<Figure size 432x288 with 1 Axes>"
      ]
     },
     "metadata": {},
     "output_type": "display_data"
    },
    {
     "data": {
      "image/png": "[encoded data removed]",
      "text/plain": [
       "<Figure size 432x288 with 1 Axes>"
      ]
     },
     "metadata": {},
     "output_type": "display_data"
    },
    {
     "data": {
      "image/png": "[encoded data removed]",
      "text/plain": [
       "<Figure size 432x288 with 1 Axes>"
      ]
     },
     "metadata": {},
     "output_type": "display_data"
    },
    {
     "data": {
      "image/png": "[encoded data removed]",
      "text/plain": [
       "<Figure size 432x288 with 1 Axes>"
      ]
     },
     "metadata": {},
     "output_type": "display_data"
    },
    {
     "data": {
      "image/png": "[encoded data removed]",
      "text/plain": [
       "<Figure size 432x288 with 1 Axes>"
      ]
     },
     "metadata": {},
     "output_type": "display_data"
    },
    {
     "data": {
      "image/png": "[encoded data removed]",
      "text/plain": [
       "<Figure size 432x288 with 1 Axes>"
      ]
     },
     "metadata": {},
     "output_type": "display_data"
    },
    {
     "data": {
      "image/png": "[encoded data removed]",
      "text/plain": [
       "<Figure size 432x288 with 1 Axes>"
      ]
     },
     "metadata": {},
     "output_type": "display_data"
    },
    {
     "data": {
      "image/png": "[encoded data removed]",
      "text/plain": [
       "<Figure size 576x864 with 2 Axes>"
      ]
     },
     "metadata": {},
     "output_type": "display_data"
    }
   ],
   "source": [
    "# Lets look at the distributions of the variables.\n",
    "explore.lets_explore(train)"
   ]
  },
  {
   "cell_type": "markdown",
   "id": "dd944169",
   "metadata": {},
   "source": [
    "**Key Takeaways before scaling:**\n",
    "- year built and number of bedrooms are pretty normally distributed\n",
    "- Square footage and tax value are right skewed.\n",
    "- Tax value is heavily correlated with Tax amount which makes since because its derrived from it. Moving foward this column will be dropped.\n",
    "- square footage and the number of bathrroms a residence have are pretty stongly correlated to the value of a home.\n",
    "- It appears that having a pool is correlated to the value of the home just not as strongly as i thought orignally. "
   ]
  },
  {
   "cell_type": "code",
   "execution_count": 9,
   "id": "94383336",
   "metadata": {},
   "outputs": [],
   "source": [
    "## well scale our data moving foward\n",
    "train, validate, test = explore.add_scaled_columns(\n",
    "    train,\n",
    "    validate,\n",
    "    test,\n",
    "    scaler=sklearn.preprocessing.MinMaxScaler(),\n",
    "    columns_to_scale=['sqft', 'bedrooms', 'bathrooms','year_built'],\n",
    ")"
   ]
  },
  {
   "cell_type": "code",
   "execution_count": 10,
   "id": "b58921de",
   "metadata": {
    "scrolled": true
   },
   "outputs": [
    {
     "data": {
      "text/html": [
       "<div>\n",
       "<style scoped>\n",
       "    .dataframe tbody tr th:only-of-type {\n",
       "        vertical-align: middle;\n",
       "    }\n",
       "\n",
       "    .dataframe tbody tr th {\n",
       "        vertical-align: top;\n",
       "    }\n",
       "\n",
       "    .dataframe thead th {\n",
       "        text-align: right;\n",
       "    }\n",
       "</style>\n",
       "<table border=\"1\" class=\"dataframe\">\n",
       "  <thead>\n",
       "    <tr style=\"text-align: right;\">\n",
       "      <th></th>\n",
       "      <th>sqft</th>\n",
       "      <th>bathrooms</th>\n",
       "      <th>bedrooms</th>\n",
       "      <th>has_pool</th>\n",
       "      <th>tax_value</th>\n",
       "      <th>year_built</th>\n",
       "      <th>tax_amount</th>\n",
       "      <th>fips</th>\n",
       "      <th>county</th>\n",
       "      <th>tax_rate</th>\n",
       "      <th>sqft_scaled</th>\n",
       "      <th>bedrooms_scaled</th>\n",
       "      <th>bathrooms_scaled</th>\n",
       "      <th>year_built_scaled</th>\n",
       "    </tr>\n",
       "    <tr>\n",
       "      <th>parcel_id</th>\n",
       "      <th></th>\n",
       "      <th></th>\n",
       "      <th></th>\n",
       "      <th></th>\n",
       "      <th></th>\n",
       "      <th></th>\n",
       "      <th></th>\n",
       "      <th></th>\n",
       "      <th></th>\n",
       "      <th></th>\n",
       "      <th></th>\n",
       "      <th></th>\n",
       "      <th></th>\n",
       "      <th></th>\n",
       "    </tr>\n",
       "  </thead>\n",
       "  <tbody>\n",
       "    <tr>\n",
       "      <th>10876414</th>\n",
       "      <td>1044</td>\n",
       "      <td>2.0</td>\n",
       "      <td>3</td>\n",
       "      <td>0</td>\n",
       "      <td>394222</td>\n",
       "      <td>1954.0</td>\n",
       "      <td>4894.00</td>\n",
       "      <td>6037.0</td>\n",
       "      <td>LA</td>\n",
       "      <td>1.24</td>\n",
       "      <td>0.161353</td>\n",
       "      <td>0.4</td>\n",
       "      <td>0.4</td>\n",
       "      <td>0.487603</td>\n",
       "    </tr>\n",
       "    <tr>\n",
       "      <th>12528247</th>\n",
       "      <td>2358</td>\n",
       "      <td>2.0</td>\n",
       "      <td>4</td>\n",
       "      <td>0</td>\n",
       "      <td>1326298</td>\n",
       "      <td>1929.0</td>\n",
       "      <td>15625.69</td>\n",
       "      <td>6037.0</td>\n",
       "      <td>LA</td>\n",
       "      <td>1.18</td>\n",
       "      <td>0.446324</td>\n",
       "      <td>0.6</td>\n",
       "      <td>0.4</td>\n",
       "      <td>0.280992</td>\n",
       "    </tr>\n",
       "    <tr>\n",
       "      <th>11740891</th>\n",
       "      <td>2060</td>\n",
       "      <td>1.0</td>\n",
       "      <td>3</td>\n",
       "      <td>0</td>\n",
       "      <td>378901</td>\n",
       "      <td>1924.0</td>\n",
       "      <td>4663.60</td>\n",
       "      <td>6037.0</td>\n",
       "      <td>LA</td>\n",
       "      <td>1.23</td>\n",
       "      <td>0.381696</td>\n",
       "      <td>0.4</td>\n",
       "      <td>0.2</td>\n",
       "      <td>0.239669</td>\n",
       "    </tr>\n",
       "    <tr>\n",
       "      <th>11211538</th>\n",
       "      <td>1946</td>\n",
       "      <td>3.0</td>\n",
       "      <td>4</td>\n",
       "      <td>1</td>\n",
       "      <td>254400</td>\n",
       "      <td>1990.0</td>\n",
       "      <td>3904.99</td>\n",
       "      <td>6037.0</td>\n",
       "      <td>LA</td>\n",
       "      <td>1.53</td>\n",
       "      <td>0.356972</td>\n",
       "      <td>0.6</td>\n",
       "      <td>0.6</td>\n",
       "      <td>0.785124</td>\n",
       "    </tr>\n",
       "    <tr>\n",
       "      <th>14076657</th>\n",
       "      <td>1439</td>\n",
       "      <td>2.0</td>\n",
       "      <td>3</td>\n",
       "      <td>0</td>\n",
       "      <td>63641</td>\n",
       "      <td>1971.0</td>\n",
       "      <td>1020.36</td>\n",
       "      <td>6059.0</td>\n",
       "      <td>Orange</td>\n",
       "      <td>1.60</td>\n",
       "      <td>0.247018</td>\n",
       "      <td>0.4</td>\n",
       "      <td>0.4</td>\n",
       "      <td>0.628099</td>\n",
       "    </tr>\n",
       "  </tbody>\n",
       "</table>\n",
       "</div>"
      ],
      "text/plain": [
       "           sqft  bathrooms  bedrooms  has_pool  tax_value  year_built  \\\n",
       "parcel_id                                                               \n",
       "10876414   1044        2.0         3         0     394222      1954.0   \n",
       "12528247   2358        2.0         4         0    1326298      1929.0   \n",
       "11740891   2060        1.0         3         0     378901      1924.0   \n",
       "11211538   1946        3.0         4         1     254400      1990.0   \n",
       "14076657   1439        2.0         3         0      63641      1971.0   \n",
       "\n",
       "           tax_amount    fips  county  tax_rate  sqft_scaled  bedrooms_scaled  \\\n",
       "parcel_id                                                                       \n",
       "10876414      4894.00  6037.0      LA      1.24     0.161353              0.4   \n",
       "12528247     15625.69  6037.0      LA      1.18     0.446324              0.6   \n",
       "11740891      4663.60  6037.0      LA      1.23     0.381696              0.4   \n",
       "11211538      3904.99  6037.0      LA      1.53     0.356972              0.6   \n",
       "14076657      1020.36  6059.0  Orange      1.60     0.247018              0.4   \n",
       "\n",
       "           bathrooms_scaled  year_built_scaled  \n",
       "parcel_id                                       \n",
       "10876414                0.4           0.487603  \n",
       "12528247                0.4           0.280992  \n",
       "11740891                0.2           0.239669  \n",
       "11211538                0.6           0.785124  \n",
       "14076657                0.4           0.628099  "
      ]
     },
     "execution_count": 10,
     "metadata": {},
     "output_type": "execute_result"
    }
   ],
   "source": [
    "## lets view our data\n",
    "train.head()"
   ]
  },
  {
   "cell_type": "code",
   "execution_count": 11,
   "id": "9c8681e5",
   "metadata": {},
   "outputs": [],
   "source": [
    "train.drop(columns=['tax_amount', 'tax_rate'], inplace=True)\n",
    "validate.drop(columns=['tax_amount', 'tax_rate'], inplace=True)\n",
    "test.drop(columns=['tax_amount', 'tax_rate'], inplace=True)"
   ]
  },
  {
   "cell_type": "code",
   "execution_count": 12,
   "id": "8798ae4e",
   "metadata": {},
   "outputs": [
    {
     "data": {
      "text/html": [
       "<div>\n",
       "<style scoped>\n",
       "    .dataframe tbody tr th:only-of-type {\n",
       "        vertical-align: middle;\n",
       "    }\n",
       "\n",
       "    .dataframe tbody tr th {\n",
       "        vertical-align: top;\n",
       "    }\n",
       "\n",
       "    .dataframe thead th {\n",
       "        text-align: right;\n",
       "    }\n",
       "</style>\n",
       "<table border=\"1\" class=\"dataframe\">\n",
       "  <thead>\n",
       "    <tr style=\"text-align: right;\">\n",
       "      <th></th>\n",
       "      <th>sqft</th>\n",
       "      <th>bathrooms</th>\n",
       "      <th>bedrooms</th>\n",
       "      <th>has_pool</th>\n",
       "      <th>tax_value</th>\n",
       "      <th>year_built</th>\n",
       "      <th>fips</th>\n",
       "      <th>county</th>\n",
       "      <th>sqft_scaled</th>\n",
       "      <th>bedrooms_scaled</th>\n",
       "      <th>bathrooms_scaled</th>\n",
       "      <th>year_built_scaled</th>\n",
       "    </tr>\n",
       "    <tr>\n",
       "      <th>parcel_id</th>\n",
       "      <th></th>\n",
       "      <th></th>\n",
       "      <th></th>\n",
       "      <th></th>\n",
       "      <th></th>\n",
       "      <th></th>\n",
       "      <th></th>\n",
       "      <th></th>\n",
       "      <th></th>\n",
       "      <th></th>\n",
       "      <th></th>\n",
       "      <th></th>\n",
       "    </tr>\n",
       "  </thead>\n",
       "  <tbody>\n",
       "    <tr>\n",
       "      <th>10876414</th>\n",
       "      <td>1044</td>\n",
       "      <td>2.0</td>\n",
       "      <td>3</td>\n",
       "      <td>0</td>\n",
       "      <td>394222</td>\n",
       "      <td>1954.0</td>\n",
       "      <td>6037.0</td>\n",
       "      <td>LA</td>\n",
       "      <td>0.161353</td>\n",
       "      <td>0.4</td>\n",
       "      <td>0.4</td>\n",
       "      <td>0.487603</td>\n",
       "    </tr>\n",
       "    <tr>\n",
       "      <th>12528247</th>\n",
       "      <td>2358</td>\n",
       "      <td>2.0</td>\n",
       "      <td>4</td>\n",
       "      <td>0</td>\n",
       "      <td>1326298</td>\n",
       "      <td>1929.0</td>\n",
       "      <td>6037.0</td>\n",
       "      <td>LA</td>\n",
       "      <td>0.446324</td>\n",
       "      <td>0.6</td>\n",
       "      <td>0.4</td>\n",
       "      <td>0.280992</td>\n",
       "    </tr>\n",
       "    <tr>\n",
       "      <th>11740891</th>\n",
       "      <td>2060</td>\n",
       "      <td>1.0</td>\n",
       "      <td>3</td>\n",
       "      <td>0</td>\n",
       "      <td>378901</td>\n",
       "      <td>1924.0</td>\n",
       "      <td>6037.0</td>\n",
       "      <td>LA</td>\n",
       "      <td>0.381696</td>\n",
       "      <td>0.4</td>\n",
       "      <td>0.2</td>\n",
       "      <td>0.239669</td>\n",
       "    </tr>\n",
       "    <tr>\n",
       "      <th>11211538</th>\n",
       "      <td>1946</td>\n",
       "      <td>3.0</td>\n",
       "      <td>4</td>\n",
       "      <td>1</td>\n",
       "      <td>254400</td>\n",
       "      <td>1990.0</td>\n",
       "      <td>6037.0</td>\n",
       "      <td>LA</td>\n",
       "      <td>0.356972</td>\n",
       "      <td>0.6</td>\n",
       "      <td>0.6</td>\n",
       "      <td>0.785124</td>\n",
       "    </tr>\n",
       "    <tr>\n",
       "      <th>14076657</th>\n",
       "      <td>1439</td>\n",
       "      <td>2.0</td>\n",
       "      <td>3</td>\n",
       "      <td>0</td>\n",
       "      <td>63641</td>\n",
       "      <td>1971.0</td>\n",
       "      <td>6059.0</td>\n",
       "      <td>Orange</td>\n",
       "      <td>0.247018</td>\n",
       "      <td>0.4</td>\n",
       "      <td>0.4</td>\n",
       "      <td>0.628099</td>\n",
       "    </tr>\n",
       "  </tbody>\n",
       "</table>\n",
       "</div>"
      ],
      "text/plain": [
       "           sqft  bathrooms  bedrooms  has_pool  tax_value  year_built    fips  \\\n",
       "parcel_id                                                                       \n",
       "10876414   1044        2.0         3         0     394222      1954.0  6037.0   \n",
       "12528247   2358        2.0         4         0    1326298      1929.0  6037.0   \n",
       "11740891   2060        1.0         3         0     378901      1924.0  6037.0   \n",
       "11211538   1946        3.0         4         1     254400      1990.0  6037.0   \n",
       "14076657   1439        2.0         3         0      63641      1971.0  6059.0   \n",
       "\n",
       "           county  sqft_scaled  bedrooms_scaled  bathrooms_scaled  \\\n",
       "parcel_id                                                           \n",
       "10876414       LA     0.161353              0.4               0.4   \n",
       "12528247       LA     0.446324              0.6               0.4   \n",
       "11740891       LA     0.381696              0.4               0.2   \n",
       "11211538       LA     0.356972              0.6               0.6   \n",
       "14076657   Orange     0.247018              0.4               0.4   \n",
       "\n",
       "           year_built_scaled  \n",
       "parcel_id                     \n",
       "10876414            0.487603  \n",
       "12528247            0.280992  \n",
       "11740891            0.239669  \n",
       "11211538            0.785124  \n",
       "14076657            0.628099  "
      ]
     },
     "execution_count": 12,
     "metadata": {},
     "output_type": "execute_result"
    }
   ],
   "source": [
    "train.head()"
   ]
  },
  {
   "cell_type": "code",
   "execution_count": 13,
   "id": "ae632a57",
   "metadata": {},
   "outputs": [
    {
     "data": {
      "text/plain": [
       "<Figure size 864x720 with 0 Axes>"
      ]
     },
     "metadata": {},
     "output_type": "display_data"
    },
    {
     "data": {
      "image/png": "[encoded data removed]",
      "text/plain": [
       "<Figure size 360x360 with 1 Axes>"
      ]
     },
     "metadata": {},
     "output_type": "display_data"
    }
   ],
   "source": [
    "explore.scat_plot(train,'sqft','tax_value')"
   ]
  },
  {
   "cell_type": "markdown",
   "id": "286016fa",
   "metadata": {},
   "source": [
    "I like this lets run a statistical test to see if it can be a feature.\n"
   ]
  },
  {
   "cell_type": "markdown",
   "id": "26142bf6",
   "metadata": {},
   "source": [
    "## Hypothesis Testing"
   ]
  },
  {
   "cell_type": "markdown",
   "id": "12f68b23",
   "metadata": {},
   "source": [
    "**Hypothesis 1** - Reject The Null Hypothesis\n",
    "- alpha = .05\n",
    "- $H_0$: Tax value is not correlated with square footage.\n",
    "- $H_A$: Tax value is  correlated with square footage."
   ]
  },
  {
   "cell_type": "code",
   "execution_count": 14,
   "id": "505c67b7",
   "metadata": {},
   "outputs": [
    {
     "name": "stdout",
     "output_type": "stream",
     "text": [
      "The p-value is: 0.0. There is 0.0% chance that we see these results by chance.\n",
      "r = 0.55\n"
     ]
    }
   ],
   "source": [
    "r, p = stats.pearsonr(train.sqft, train.tax_value)\n",
    "print(f'The p-value is: {p}. There is {round(p,3)}% chance that we see these results by chance.')\n",
    "print(f'r = {round(r, 2)}')"
   ]
  },
  {
   "cell_type": "markdown",
   "id": "daace129",
   "metadata": {},
   "source": [
    "**Hypothesis 2** - Reject The Null Hypothesis\n",
    "- alpha = .05\n",
    "- $H_0$: Tax value is not correlated with number of bathrooms.\n",
    "- $H_A$: Tax value is  correlated with number of bathrooms."
   ]
  },
  {
   "cell_type": "code",
   "execution_count": 15,
   "id": "c391b59d",
   "metadata": {},
   "outputs": [
    {
     "name": "stdout",
     "output_type": "stream",
     "text": [
      "The p-value is: 0.0. There is 0.0% chance that we see these results by chance.\n",
      "r = 0.48\n"
     ]
    }
   ],
   "source": [
    "r, p = stats.pearsonr(train.bathrooms, train.tax_value)\n",
    "print(f'The p-value is: {p}. There is {round(p,3)}% chance that we see these results by chance.')\n",
    "print(f'r = {round(r, 2)}')"
   ]
  },
  {
   "cell_type": "markdown",
   "id": "289e67b0",
   "metadata": {},
   "source": [
    "**Hypothesis 3** - Reject The Null Hypothesis\n",
    "- alpha = .05\n",
    "- $H_0$: Tax value is not correlated with property having a pool.\n",
    "- $H_A$: Tax value is correlated with property having a pool."
   ]
  },
  {
   "cell_type": "code",
   "execution_count": 16,
   "id": "7a5f0bee",
   "metadata": {},
   "outputs": [
    {
     "name": "stdout",
     "output_type": "stream",
     "text": [
      "The p-value is: 1.0226168760896592e-147. There is 0.0% chance that we see these results by chance.\n",
      "r = 0.21\n"
     ]
    }
   ],
   "source": [
    "r, p = stats.pearsonr(train.has_pool, train.tax_value)\n",
    "print(f'The p-value is: {p}. There is {round(p,3)}% chance that we see these results by chance.')\n",
    "print(f'r = {round(r, 2)}')"
   ]
  },
  {
   "cell_type": "markdown",
   "id": "fd7d908f",
   "metadata": {},
   "source": [
    "**Hypothesis 4** - Reject The Null Hypothesis\n",
    "- alpha = .05\n",
    "- $H_0$: Tax value is not correlated with age of the property.\n",
    "- $H_A$: Tax value is correlated with age of the property."
   ]
  },
  {
   "cell_type": "code",
   "execution_count": 17,
   "id": "ebc06ac4",
   "metadata": {},
   "outputs": [
    {
     "name": "stdout",
     "output_type": "stream",
     "text": [
      "The p-value is: 7.125349822532113e-150. There is 0.0% chance that we see these results by chance.\n",
      "r = 0.21\n"
     ]
    }
   ],
   "source": [
    "r, p = stats.pearsonr(train.year_built, train.tax_value)\n",
    "print(f'The p-value is: {p}. There is {round(p,3)}% chance that we see these results by chance.')\n",
    "print(f'r = {round(r, 2)}')"
   ]
  },
  {
   "cell_type": "markdown",
   "id": "6c22633f",
   "metadata": {},
   "source": [
    "**Key Takeaways**\n",
    "- there is strong correlations between tax value and the number of bathrooms and sqaure footage,\n",
    "- While not as strong there is a correlation between pool ownership and tax value.\n",
    "- Also not as strong but still strong enough to be a driving feature is the age of the house\n",
    "- these will be my features going foward. "
   ]
  },
  {
   "cell_type": "markdown",
   "id": "68775664",
   "metadata": {},
   "source": [
    "## Modeling"
   ]
  },
  {
   "cell_type": "code",
   "execution_count": 18,
   "id": "589650f5",
   "metadata": {},
   "outputs": [
    {
     "data": {
      "text/html": [
       "<div>\n",
       "<style scoped>\n",
       "    .dataframe tbody tr th:only-of-type {\n",
       "        vertical-align: middle;\n",
       "    }\n",
       "\n",
       "    .dataframe tbody tr th {\n",
       "        vertical-align: top;\n",
       "    }\n",
       "\n",
       "    .dataframe thead th {\n",
       "        text-align: right;\n",
       "    }\n",
       "</style>\n",
       "<table border=\"1\" class=\"dataframe\">\n",
       "  <thead>\n",
       "    <tr style=\"text-align: right;\">\n",
       "      <th></th>\n",
       "      <th>sqft</th>\n",
       "      <th>bathrooms</th>\n",
       "      <th>bedrooms</th>\n",
       "      <th>has_pool</th>\n",
       "      <th>tax_value</th>\n",
       "      <th>year_built</th>\n",
       "      <th>fips</th>\n",
       "      <th>county</th>\n",
       "      <th>sqft_scaled</th>\n",
       "      <th>bedrooms_scaled</th>\n",
       "      <th>bathrooms_scaled</th>\n",
       "      <th>year_built_scaled</th>\n",
       "    </tr>\n",
       "    <tr>\n",
       "      <th>parcel_id</th>\n",
       "      <th></th>\n",
       "      <th></th>\n",
       "      <th></th>\n",
       "      <th></th>\n",
       "      <th></th>\n",
       "      <th></th>\n",
       "      <th></th>\n",
       "      <th></th>\n",
       "      <th></th>\n",
       "      <th></th>\n",
       "      <th></th>\n",
       "      <th></th>\n",
       "    </tr>\n",
       "  </thead>\n",
       "  <tbody>\n",
       "    <tr>\n",
       "      <th>10876414</th>\n",
       "      <td>1044</td>\n",
       "      <td>2.0</td>\n",
       "      <td>3</td>\n",
       "      <td>0</td>\n",
       "      <td>394222</td>\n",
       "      <td>1954.0</td>\n",
       "      <td>6037.0</td>\n",
       "      <td>LA</td>\n",
       "      <td>0.161353</td>\n",
       "      <td>0.4</td>\n",
       "      <td>0.4</td>\n",
       "      <td>0.487603</td>\n",
       "    </tr>\n",
       "    <tr>\n",
       "      <th>12528247</th>\n",
       "      <td>2358</td>\n",
       "      <td>2.0</td>\n",
       "      <td>4</td>\n",
       "      <td>0</td>\n",
       "      <td>1326298</td>\n",
       "      <td>1929.0</td>\n",
       "      <td>6037.0</td>\n",
       "      <td>LA</td>\n",
       "      <td>0.446324</td>\n",
       "      <td>0.6</td>\n",
       "      <td>0.4</td>\n",
       "      <td>0.280992</td>\n",
       "    </tr>\n",
       "    <tr>\n",
       "      <th>11740891</th>\n",
       "      <td>2060</td>\n",
       "      <td>1.0</td>\n",
       "      <td>3</td>\n",
       "      <td>0</td>\n",
       "      <td>378901</td>\n",
       "      <td>1924.0</td>\n",
       "      <td>6037.0</td>\n",
       "      <td>LA</td>\n",
       "      <td>0.381696</td>\n",
       "      <td>0.4</td>\n",
       "      <td>0.2</td>\n",
       "      <td>0.239669</td>\n",
       "    </tr>\n",
       "    <tr>\n",
       "      <th>11211538</th>\n",
       "      <td>1946</td>\n",
       "      <td>3.0</td>\n",
       "      <td>4</td>\n",
       "      <td>1</td>\n",
       "      <td>254400</td>\n",
       "      <td>1990.0</td>\n",
       "      <td>6037.0</td>\n",
       "      <td>LA</td>\n",
       "      <td>0.356972</td>\n",
       "      <td>0.6</td>\n",
       "      <td>0.6</td>\n",
       "      <td>0.785124</td>\n",
       "    </tr>\n",
       "    <tr>\n",
       "      <th>14076657</th>\n",
       "      <td>1439</td>\n",
       "      <td>2.0</td>\n",
       "      <td>3</td>\n",
       "      <td>0</td>\n",
       "      <td>63641</td>\n",
       "      <td>1971.0</td>\n",
       "      <td>6059.0</td>\n",
       "      <td>Orange</td>\n",
       "      <td>0.247018</td>\n",
       "      <td>0.4</td>\n",
       "      <td>0.4</td>\n",
       "      <td>0.628099</td>\n",
       "    </tr>\n",
       "  </tbody>\n",
       "</table>\n",
       "</div>"
      ],
      "text/plain": [
       "           sqft  bathrooms  bedrooms  has_pool  tax_value  year_built    fips  \\\n",
       "parcel_id                                                                       \n",
       "10876414   1044        2.0         3         0     394222      1954.0  6037.0   \n",
       "12528247   2358        2.0         4         0    1326298      1929.0  6037.0   \n",
       "11740891   2060        1.0         3         0     378901      1924.0  6037.0   \n",
       "11211538   1946        3.0         4         1     254400      1990.0  6037.0   \n",
       "14076657   1439        2.0         3         0      63641      1971.0  6059.0   \n",
       "\n",
       "           county  sqft_scaled  bedrooms_scaled  bathrooms_scaled  \\\n",
       "parcel_id                                                           \n",
       "10876414       LA     0.161353              0.4               0.4   \n",
       "12528247       LA     0.446324              0.6               0.4   \n",
       "11740891       LA     0.381696              0.4               0.2   \n",
       "11211538       LA     0.356972              0.6               0.6   \n",
       "14076657   Orange     0.247018              0.4               0.4   \n",
       "\n",
       "           year_built_scaled  \n",
       "parcel_id                     \n",
       "10876414            0.487603  \n",
       "12528247            0.280992  \n",
       "11740891            0.239669  \n",
       "11211538            0.785124  \n",
       "14076657            0.628099  "
      ]
     },
     "execution_count": 18,
     "metadata": {},
     "output_type": "execute_result"
    }
   ],
   "source": [
    "train.head()"
   ]
  },
  {
   "cell_type": "code",
   "execution_count": 19,
   "id": "7407ad1e",
   "metadata": {},
   "outputs": [],
   "source": [
    "# Lets choose our features.\n",
    "X_train = train[['bedrooms_scaled','bathrooms_scaled','sqft_scaled','has_pool','year_built']]\n",
    "X_validate = validate[['bedrooms_scaled','bathrooms_scaled','sqft_scaled','has_pool','year_built']]\n",
    "X_test = test[['bedrooms_scaled','bathrooms_scaled','sqft_scaled','has_pool','year_built']]\n",
    "y_train = pd.DataFrame(train['tax_value'])\n",
    "y_validate = pd.DataFrame(validate['tax_value'])\n",
    "y_test = pd.DataFrame(test['tax_value'])"
   ]
  },
  {
   "cell_type": "code",
   "execution_count": 20,
   "id": "64e4b568",
   "metadata": {},
   "outputs": [
    {
     "name": "stdout",
     "output_type": "stream",
     "text": [
      "             BASELINE\n",
      "----------------------------------\n",
      "RMSE using Mean\n",
      "Train/In-Sample:  378980 \n",
      "Validate/Out-of-Sample:  381602\n",
      "----------------------------------\n",
      "RMSE using Median\n",
      "Train/In-Sample:  388213 \n",
      "Validate/Out-of-Sample:  390847\n",
      "----------------------------------\n"
     ]
    }
   ],
   "source": [
    "#turn the y_train and y_validate into dataframes\n",
    "y_train = pd.DataFrame(y_train)\n",
    "y_validate = pd.DataFrame(y_validate)\n",
    "\n",
    "# We need to determine whiich is better for a baseline model. Median or Mode. \n",
    "#tax_value mean\n",
    "tax_value_pred_mean = y_train['tax_value'].mean()\n",
    "y_train['tax_value_pred_mean'] = tax_value_pred_mean\n",
    "y_validate['tax_value_pred_mean'] = tax_value_pred_mean\n",
    "\n",
    "#tax_value_median\n",
    "tax_value_pred_median = y_train['tax_value'].median()\n",
    "y_train['tax_value_pred_median'] = tax_value_pred_median\n",
    "y_validate['tax_value_pred_median'] = tax_value_pred_median\n",
    "\n",
    "#RMSE of tax_value_pred_mean\n",
    "rmse_train = mean_squared_error(y_train.tax_value, y_train.tax_value_pred_mean)**(1/2)\n",
    "rmse_validate = mean_squared_error(y_validate.tax_value, y_validate.tax_value_pred_mean)**(1/2)\n",
    "\n",
    "print('             BASELINE')\n",
    "print('----------------------------------')\n",
    "print(\"RMSE using Mean\\nTrain/In-Sample: \", round(rmse_train), \n",
    "      \"\\nValidate/Out-of-Sample: \", round(rmse_validate))\n",
    "print('----------------------------------')\n",
    "\n",
    "#RMSE of tax_value_pred_median\n",
    "rmse_train = mean_squared_error(y_train.tax_value, y_train.tax_value_pred_median)**(1/2)\n",
    "rmse_validate = mean_squared_error(y_validate.tax_value, y_validate.tax_value_pred_median)**(1/2)\n",
    "\n",
    "print(\"RMSE using Median\\nTrain/In-Sample: \", round(rmse_train), \n",
    "      \"\\nValidate/Out-of-Sample: \", round(rmse_validate))\n",
    "print('----------------------------------')"
   ]
  },
  {
   "cell_type": "markdown",
   "id": "ac71fdfc",
   "metadata": {},
   "source": [
    "Moving foward our baseline to beat is mean. Model must get a RMSE of **$378,981**"
   ]
  },
  {
   "cell_type": "code",
   "execution_count": 21,
   "id": "fd79aefe",
   "metadata": {},
   "outputs": [],
   "source": [
    "metric_df = pd.DataFrame()\n",
    "metric_df = explore.make_metric_df(y_train.tax_value,\n",
    "                           y_train.tax_value_pred_mean,\n",
    "                           'mean_baseline',\n",
    "                          metric_df)"
   ]
  },
  {
   "cell_type": "code",
   "execution_count": 22,
   "id": "f67ac60d",
   "metadata": {},
   "outputs": [
    {
     "data": {
      "text/html": [
       "<div>\n",
       "<style scoped>\n",
       "    .dataframe tbody tr th:only-of-type {\n",
       "        vertical-align: middle;\n",
       "    }\n",
       "\n",
       "    .dataframe tbody tr th {\n",
       "        vertical-align: top;\n",
       "    }\n",
       "\n",
       "    .dataframe thead th {\n",
       "        text-align: right;\n",
       "    }\n",
       "</style>\n",
       "<table border=\"1\" class=\"dataframe\">\n",
       "  <thead>\n",
       "    <tr style=\"text-align: right;\">\n",
       "      <th></th>\n",
       "      <th>model</th>\n",
       "      <th>RMSE_validate</th>\n",
       "      <th>r^2_validate</th>\n",
       "    </tr>\n",
       "  </thead>\n",
       "  <tbody>\n",
       "    <tr>\n",
       "      <th>0</th>\n",
       "      <td>mean_baseline</td>\n",
       "      <td>378980</td>\n",
       "      <td>0.0</td>\n",
       "    </tr>\n",
       "  </tbody>\n",
       "</table>\n",
       "</div>"
      ],
      "text/plain": [
       "           model  RMSE_validate  r^2_validate\n",
       "0  mean_baseline         378980           0.0"
      ]
     },
     "execution_count": 22,
     "metadata": {},
     "output_type": "execute_result"
    }
   ],
   "source": [
    "metric_df"
   ]
  },
  {
   "cell_type": "code",
   "execution_count": 23,
   "id": "0a66b783",
   "metadata": {},
   "outputs": [
    {
     "name": "stdout",
     "output_type": "stream",
     "text": [
      "RMSE for OLS using LinearRegression:\n",
      "Training/In-Sample:  308915 \n",
      "Validation/Out-of-Sample:  307808\n"
     ]
    }
   ],
   "source": [
    "# First model will be a linear regresion model\n",
    "lm = LinearRegression(normalize=True)\n",
    "\n",
    "#fit the model to our training data, specify column since it is a dataframe\n",
    "lm.fit(X_train,y_train.tax_value)\n",
    "\n",
    "#predict train\n",
    "y_train['tax_value_pred_lm'] = lm.predict(X_train)\n",
    "\n",
    "#evaluate the RMSE for train\n",
    "rmse_train = mean_squared_error(y_train.tax_value, y_train.tax_value_pred_lm)**(1/2)\n",
    "\n",
    "#predict validate\n",
    "y_validate['tax_value_pred_lm'] = lm.predict(X_validate)\n",
    "\n",
    "#evaluate the RMSE for validate\n",
    "rmse_validate = mean_squared_error(y_validate.tax_value, y_validate.tax_value_pred_lm)**(1/2)\n",
    "\n",
    "print(\"RMSE for OLS using LinearRegression:\\nTraining/In-Sample: \",round(rmse_train), \n",
    "      \"\\nValidation/Out-of-Sample: \", round(rmse_validate))\n"
   ]
  },
  {
   "cell_type": "markdown",
   "id": "0bde2caf",
   "metadata": {},
   "source": [
    "Our Model has a rmse score that is **$70,000** more accurate then baseline"
   ]
  },
  {
   "cell_type": "code",
   "execution_count": 24,
   "id": "c9f359ee",
   "metadata": {},
   "outputs": [],
   "source": [
    "metric_df = metric_df.append({\n",
    "    'model': 'OLS Regressor', \n",
    "    'RMSE_validate': round(rmse_validate),\n",
    "    'r^2_validate': round(explained_variance_score(y_validate.tax_value, y_validate.tax_value_pred_lm),3)}, ignore_index=True)"
   ]
  },
  {
   "cell_type": "code",
   "execution_count": 25,
   "id": "45736836",
   "metadata": {},
   "outputs": [
    {
     "data": {
      "text/html": [
       "<div>\n",
       "<style scoped>\n",
       "    .dataframe tbody tr th:only-of-type {\n",
       "        vertical-align: middle;\n",
       "    }\n",
       "\n",
       "    .dataframe tbody tr th {\n",
       "        vertical-align: top;\n",
       "    }\n",
       "\n",
       "    .dataframe thead th {\n",
       "        text-align: right;\n",
       "    }\n",
       "</style>\n",
       "<table border=\"1\" class=\"dataframe\">\n",
       "  <thead>\n",
       "    <tr style=\"text-align: right;\">\n",
       "      <th></th>\n",
       "      <th>model</th>\n",
       "      <th>RMSE_validate</th>\n",
       "      <th>r^2_validate</th>\n",
       "    </tr>\n",
       "  </thead>\n",
       "  <tbody>\n",
       "    <tr>\n",
       "      <th>0</th>\n",
       "      <td>mean_baseline</td>\n",
       "      <td>378980</td>\n",
       "      <td>0.000</td>\n",
       "    </tr>\n",
       "    <tr>\n",
       "      <th>1</th>\n",
       "      <td>OLS Regressor</td>\n",
       "      <td>307808</td>\n",
       "      <td>0.349</td>\n",
       "    </tr>\n",
       "  </tbody>\n",
       "</table>\n",
       "</div>"
      ],
      "text/plain": [
       "           model  RMSE_validate  r^2_validate\n",
       "0  mean_baseline         378980         0.000\n",
       "1  OLS Regressor         307808         0.349"
      ]
     },
     "execution_count": 25,
     "metadata": {},
     "output_type": "execute_result"
    }
   ],
   "source": [
    "metric_df"
   ]
  },
  {
   "cell_type": "code",
   "execution_count": 26,
   "id": "ea0fcc67",
   "metadata": {},
   "outputs": [
    {
     "name": "stdout",
     "output_type": "stream",
     "text": [
      "RMSE for Lasso + Lars\n",
      "Training/In-Sample:  308916 \n",
      "Validation/Out-of-Sample:  307809\n"
     ]
    }
   ],
   "source": [
    "# create the model object\n",
    "lars = LassoLars(alpha=1)\n",
    "\n",
    "# fit the model to our training data. We must specify the column in y_train, \n",
    "# since we have converted it to a dataframe from a series!\n",
    "lars.fit(X_train, y_train.tax_value)\n",
    "\n",
    "# predict train\n",
    "y_train['tax_value_pred_lars'] = lars.predict(X_train)\n",
    "\n",
    "# evaluate: rmse\n",
    "rmse_train = mean_squared_error(y_train.tax_value, y_train.tax_value_pred_lars) ** (1/2)\n",
    "\n",
    "# predict validate\n",
    "y_validate['tax_value_pred_lars'] = lars.predict(X_validate)\n",
    "\n",
    "# evaluate: rmse\n",
    "rmse_validate = mean_squared_error(y_validate.tax_value, y_validate.tax_value_pred_lars) ** (1/2)\n",
    "\n",
    "print(\"RMSE for Lasso + Lars\\nTraining/In-Sample: \", round(rmse_train) , \n",
    "      \"\\nValidation/Out-of-Sample: \", round(rmse_validate) )"
   ]
  },
  {
   "cell_type": "markdown",
   "id": "16591449",
   "metadata": {},
   "source": [
    "Lasso-Lars still beats baseline but is not better than OLS"
   ]
  },
  {
   "cell_type": "code",
   "execution_count": 27,
   "id": "f057a192",
   "metadata": {},
   "outputs": [],
   "source": [
    "metric_df = metric_df.append({\n",
    "    'model': 'Lasso Lars aplha:1', \n",
    "    'RMSE_validate': round(rmse_validate),\n",
    "    'r^2_validate': round(explained_variance_score(y_validate.tax_value, y_validate.tax_value_pred_lars),3)}, ignore_index=True)"
   ]
  },
  {
   "cell_type": "code",
   "execution_count": 28,
   "id": "b36a6bd0",
   "metadata": {},
   "outputs": [
    {
     "data": {
      "text/html": [
       "<div>\n",
       "<style scoped>\n",
       "    .dataframe tbody tr th:only-of-type {\n",
       "        vertical-align: middle;\n",
       "    }\n",
       "\n",
       "    .dataframe tbody tr th {\n",
       "        vertical-align: top;\n",
       "    }\n",
       "\n",
       "    .dataframe thead th {\n",
       "        text-align: right;\n",
       "    }\n",
       "</style>\n",
       "<table border=\"1\" class=\"dataframe\">\n",
       "  <thead>\n",
       "    <tr style=\"text-align: right;\">\n",
       "      <th></th>\n",
       "      <th>model</th>\n",
       "      <th>RMSE_validate</th>\n",
       "      <th>r^2_validate</th>\n",
       "    </tr>\n",
       "  </thead>\n",
       "  <tbody>\n",
       "    <tr>\n",
       "      <th>0</th>\n",
       "      <td>mean_baseline</td>\n",
       "      <td>378980</td>\n",
       "      <td>0.000</td>\n",
       "    </tr>\n",
       "    <tr>\n",
       "      <th>1</th>\n",
       "      <td>OLS Regressor</td>\n",
       "      <td>307808</td>\n",
       "      <td>0.349</td>\n",
       "    </tr>\n",
       "    <tr>\n",
       "      <th>2</th>\n",
       "      <td>Lasso Lars aplha:1</td>\n",
       "      <td>307809</td>\n",
       "      <td>0.349</td>\n",
       "    </tr>\n",
       "  </tbody>\n",
       "</table>\n",
       "</div>"
      ],
      "text/plain": [
       "                model  RMSE_validate  r^2_validate\n",
       "0       mean_baseline         378980         0.000\n",
       "1       OLS Regressor         307808         0.349\n",
       "2  Lasso Lars aplha:1         307809         0.349"
      ]
     },
     "execution_count": 28,
     "metadata": {},
     "output_type": "execute_result"
    }
   ],
   "source": [
    "metric_df"
   ]
  },
  {
   "cell_type": "code",
   "execution_count": 29,
   "id": "b83a8d60",
   "metadata": {},
   "outputs": [
    {
     "name": "stdout",
     "output_type": "stream",
     "text": [
      "RMSE for Lasso + Lars\n",
      "Training/In-Sample:  309062 \n",
      "Validation/Out-of-Sample:  307980\n"
     ]
    }
   ],
   "source": [
    "# create the model object\n",
    "lars = LassoLars(alpha=25)\n",
    "\n",
    "# fit the model to our training data. We must specify the column in y_train, \n",
    "# since we have converted it to a dataframe from a series!\n",
    "lars.fit(X_train, y_train.tax_value)\n",
    "\n",
    "# predict train\n",
    "y_train['tax_value_pred_lars'] = lars.predict(X_train)\n",
    "\n",
    "# evaluate: rmse\n",
    "rmse_train = mean_squared_error(y_train.tax_value, y_train.tax_value_pred_lars) ** (1/2)\n",
    "\n",
    "# predict validate\n",
    "y_validate['tax_value_pred_lars'] = lars.predict(X_validate)\n",
    "\n",
    "# evaluate: rmse\n",
    "rmse_validate = mean_squared_error(y_validate.tax_value, y_validate.tax_value_pred_lars) ** (1/2)\n",
    "\n",
    "print(\"RMSE for Lasso + Lars\\nTraining/In-Sample: \", round(rmse_train) , \n",
    "      \"\\nValidation/Out-of-Sample: \", round(rmse_validate) )"
   ]
  },
  {
   "cell_type": "code",
   "execution_count": 30,
   "id": "2774a095",
   "metadata": {},
   "outputs": [],
   "source": [
    "metric_df = metric_df.append({\n",
    "    'model': 'Lasso Lars aplha: 25', \n",
    "    'RMSE_validate': round(rmse_validate),\n",
    "    'r^2_validate': round(explained_variance_score(y_validate.tax_value, y_validate.tax_value_pred_lars),3)}, ignore_index=True)"
   ]
  },
  {
   "cell_type": "code",
   "execution_count": 31,
   "id": "ab784a6d",
   "metadata": {},
   "outputs": [
    {
     "data": {
      "text/html": [
       "<div>\n",
       "<style scoped>\n",
       "    .dataframe tbody tr th:only-of-type {\n",
       "        vertical-align: middle;\n",
       "    }\n",
       "\n",
       "    .dataframe tbody tr th {\n",
       "        vertical-align: top;\n",
       "    }\n",
       "\n",
       "    .dataframe thead th {\n",
       "        text-align: right;\n",
       "    }\n",
       "</style>\n",
       "<table border=\"1\" class=\"dataframe\">\n",
       "  <thead>\n",
       "    <tr style=\"text-align: right;\">\n",
       "      <th></th>\n",
       "      <th>model</th>\n",
       "      <th>RMSE_validate</th>\n",
       "      <th>r^2_validate</th>\n",
       "    </tr>\n",
       "  </thead>\n",
       "  <tbody>\n",
       "    <tr>\n",
       "      <th>0</th>\n",
       "      <td>mean_baseline</td>\n",
       "      <td>378980</td>\n",
       "      <td>0.000</td>\n",
       "    </tr>\n",
       "    <tr>\n",
       "      <th>1</th>\n",
       "      <td>OLS Regressor</td>\n",
       "      <td>307808</td>\n",
       "      <td>0.349</td>\n",
       "    </tr>\n",
       "    <tr>\n",
       "      <th>2</th>\n",
       "      <td>Lasso Lars aplha:1</td>\n",
       "      <td>307809</td>\n",
       "      <td>0.349</td>\n",
       "    </tr>\n",
       "    <tr>\n",
       "      <th>3</th>\n",
       "      <td>Lasso Lars aplha: 25</td>\n",
       "      <td>307980</td>\n",
       "      <td>0.349</td>\n",
       "    </tr>\n",
       "  </tbody>\n",
       "</table>\n",
       "</div>"
      ],
      "text/plain": [
       "                  model  RMSE_validate  r^2_validate\n",
       "0         mean_baseline         378980         0.000\n",
       "1         OLS Regressor         307808         0.349\n",
       "2    Lasso Lars aplha:1         307809         0.349\n",
       "3  Lasso Lars aplha: 25         307980         0.349"
      ]
     },
     "execution_count": 31,
     "metadata": {},
     "output_type": "execute_result"
    }
   ],
   "source": [
    "metric_df"
   ]
  },
  {
   "cell_type": "markdown",
   "id": "8bc5ae2b",
   "metadata": {},
   "source": [
    "Lasso Lars appears to get worst adding to the alpha\n",
    "Ran multiple test to the same result."
   ]
  },
  {
   "cell_type": "code",
   "execution_count": 32,
   "id": "17aa488e",
   "metadata": {},
   "outputs": [
    {
     "name": "stdout",
     "output_type": "stream",
     "text": [
      "RMSE for TweedieRegressor\n",
      "Training/In-Sample:  378980 \n",
      "Validation/Out-of-Sample:  381602\n"
     ]
    }
   ],
   "source": [
    "# create the model object\n",
    "glm = TweedieRegressor(power=1, alpha=0)\n",
    "\n",
    "# fit the model to our training data. We must specify the column in y_train, \n",
    "# since we have converted it to a dataframe from a series!\n",
    "glm.fit(X_train, y_train.tax_value)\n",
    "\n",
    "# predict train\n",
    "y_train['tax_value_pred_glm'] = glm.predict(X_train)\n",
    "\n",
    "# evaluate: rmse\n",
    "rmse_train = mean_squared_error(y_train.tax_value, y_train.tax_value_pred_glm) ** (1/2)\n",
    "\n",
    "# predict validate\n",
    "y_validate['tax_value_pred_glm'] = glm.predict(X_validate)\n",
    "\n",
    "# evaluate: rmse\n",
    "rmse_validate = mean_squared_error(y_validate.tax_value, y_validate.tax_value_pred_glm) ** (1/2)\n",
    "\n",
    "print(\"RMSE for TweedieRegressor\\nTraining/In-Sample: \", round(rmse_train) , \n",
    "      \"\\nValidation/Out-of-Sample: \", round(rmse_validate) )"
   ]
  },
  {
   "cell_type": "code",
   "execution_count": 33,
   "id": "2de8fd8a",
   "metadata": {},
   "outputs": [],
   "source": [
    "metric_df = metric_df.append({\n",
    "    'model': 'TweedieRegressor power:1 aplha: 0', \n",
    "    'RMSE_validate': round(rmse_validate),\n",
    "    'r^2_validate': round(explained_variance_score(y_validate.tax_value, y_validate.tax_value_pred_glm),3)}, ignore_index=True)"
   ]
  },
  {
   "cell_type": "code",
   "execution_count": 34,
   "id": "abf2d5e3",
   "metadata": {},
   "outputs": [
    {
     "data": {
      "text/html": [
       "<div>\n",
       "<style scoped>\n",
       "    .dataframe tbody tr th:only-of-type {\n",
       "        vertical-align: middle;\n",
       "    }\n",
       "\n",
       "    .dataframe tbody tr th {\n",
       "        vertical-align: top;\n",
       "    }\n",
       "\n",
       "    .dataframe thead th {\n",
       "        text-align: right;\n",
       "    }\n",
       "</style>\n",
       "<table border=\"1\" class=\"dataframe\">\n",
       "  <thead>\n",
       "    <tr style=\"text-align: right;\">\n",
       "      <th></th>\n",
       "      <th>model</th>\n",
       "      <th>RMSE_validate</th>\n",
       "      <th>r^2_validate</th>\n",
       "    </tr>\n",
       "  </thead>\n",
       "  <tbody>\n",
       "    <tr>\n",
       "      <th>0</th>\n",
       "      <td>mean_baseline</td>\n",
       "      <td>378980</td>\n",
       "      <td>0.000</td>\n",
       "    </tr>\n",
       "    <tr>\n",
       "      <th>1</th>\n",
       "      <td>OLS Regressor</td>\n",
       "      <td>307808</td>\n",
       "      <td>0.349</td>\n",
       "    </tr>\n",
       "    <tr>\n",
       "      <th>2</th>\n",
       "      <td>Lasso Lars aplha:1</td>\n",
       "      <td>307809</td>\n",
       "      <td>0.349</td>\n",
       "    </tr>\n",
       "    <tr>\n",
       "      <th>3</th>\n",
       "      <td>Lasso Lars aplha: 25</td>\n",
       "      <td>307980</td>\n",
       "      <td>0.349</td>\n",
       "    </tr>\n",
       "    <tr>\n",
       "      <th>4</th>\n",
       "      <td>TweedieRegressor power:1 aplha: 0</td>\n",
       "      <td>381602</td>\n",
       "      <td>0.000</td>\n",
       "    </tr>\n",
       "  </tbody>\n",
       "</table>\n",
       "</div>"
      ],
      "text/plain": [
       "                               model  RMSE_validate  r^2_validate\n",
       "0                      mean_baseline         378980         0.000\n",
       "1                      OLS Regressor         307808         0.349\n",
       "2                 Lasso Lars aplha:1         307809         0.349\n",
       "3               Lasso Lars aplha: 25         307980         0.349\n",
       "4  TweedieRegressor power:1 aplha: 0         381602         0.000"
      ]
     },
     "execution_count": 34,
     "metadata": {},
     "output_type": "execute_result"
    }
   ],
   "source": [
    "metric_df"
   ]
  },
  {
   "cell_type": "markdown",
   "id": "8a068f5e",
   "metadata": {},
   "source": [
    "Lets try some ploynomial regression"
   ]
  },
  {
   "cell_type": "code",
   "execution_count": 35,
   "id": "5c12eb21",
   "metadata": {},
   "outputs": [],
   "source": [
    "# make the polynomial features to get a new set of features\n",
    "pf = PolynomialFeatures(degree=2)\n",
    "\n",
    "# fit and transform X_train_scaled\n",
    "X_train_degree3 = pf.fit_transform(X_train)\n",
    "\n",
    "# transform X_validate_scaled & X_test_scaled\n",
    "X_validate_degree3 = pf.transform(X_validate)\n",
    "X_test_degree3 =  pf.transform(X_test)"
   ]
  },
  {
   "cell_type": "code",
   "execution_count": 36,
   "id": "41021534",
   "metadata": {
    "scrolled": true
   },
   "outputs": [
    {
     "name": "stdout",
     "output_type": "stream",
     "text": [
      "RMSE for Polynomial Model, degrees=3\n",
      "Training/In-Sample:  306397 \n",
      "Validation/Out-of-Sample:  305602\n"
     ]
    }
   ],
   "source": [
    "# create the model object\n",
    "lm2 = LinearRegression(normalize=True)\n",
    "\n",
    "# fit the model to our training data. We must specify the column in y_train, \n",
    "# since we have converted it to a dataframe from a series! \n",
    "lm2.fit(X_train_degree3, y_train.tax_value)\n",
    "\n",
    "# predict train\n",
    "y_train['tax_value_pred_lm2'] = lm2.predict(X_train_degree3)\n",
    "\n",
    "# evaluate: rmse\n",
    "rmse_train = mean_squared_error(y_train.tax_value, y_train.tax_value_pred_lm2) ** (1/2)\n",
    "\n",
    "# predict validate\n",
    "y_validate['tax_value_pred_lm2'] = lm2.predict(X_validate_degree3)\n",
    "\n",
    "# evaluate: rmse\n",
    "rmse_validate = mean_squared_error(y_validate.tax_value, y_validate.tax_value_pred_lm2)** (1/2)\n",
    "\n",
    "print(\"RMSE for Polynomial Model, degrees=3\\nTraining/In-Sample: \", round(rmse_train), \n",
    "      \"\\nValidation/Out-of-Sample: \", round(rmse_validate))"
   ]
  },
  {
   "cell_type": "code",
   "execution_count": 37,
   "id": "dd0624f5",
   "metadata": {},
   "outputs": [],
   "source": [
    "metric_df = metric_df.append({\n",
    "    'model': '2nd Degree Polynomial Regression', \n",
    "    'RMSE_validate': round(rmse_validate),\n",
    "    'r^2_validate': round(explained_variance_score(y_validate.tax_value, y_validate.tax_value_pred_lm2),3)}, ignore_index=True)"
   ]
  },
  {
   "cell_type": "code",
   "execution_count": 38,
   "id": "3a80a4a3",
   "metadata": {},
   "outputs": [
    {
     "data": {
      "text/html": [
       "<div>\n",
       "<style scoped>\n",
       "    .dataframe tbody tr th:only-of-type {\n",
       "        vertical-align: middle;\n",
       "    }\n",
       "\n",
       "    .dataframe tbody tr th {\n",
       "        vertical-align: top;\n",
       "    }\n",
       "\n",
       "    .dataframe thead th {\n",
       "        text-align: right;\n",
       "    }\n",
       "</style>\n",
       "<table border=\"1\" class=\"dataframe\">\n",
       "  <thead>\n",
       "    <tr style=\"text-align: right;\">\n",
       "      <th></th>\n",
       "      <th>model</th>\n",
       "      <th>RMSE_validate</th>\n",
       "      <th>r^2_validate</th>\n",
       "    </tr>\n",
       "  </thead>\n",
       "  <tbody>\n",
       "    <tr>\n",
       "      <th>0</th>\n",
       "      <td>mean_baseline</td>\n",
       "      <td>378980</td>\n",
       "      <td>0.000</td>\n",
       "    </tr>\n",
       "    <tr>\n",
       "      <th>1</th>\n",
       "      <td>OLS Regressor</td>\n",
       "      <td>307808</td>\n",
       "      <td>0.349</td>\n",
       "    </tr>\n",
       "    <tr>\n",
       "      <th>2</th>\n",
       "      <td>Lasso Lars aplha:1</td>\n",
       "      <td>307809</td>\n",
       "      <td>0.349</td>\n",
       "    </tr>\n",
       "    <tr>\n",
       "      <th>3</th>\n",
       "      <td>Lasso Lars aplha: 25</td>\n",
       "      <td>307980</td>\n",
       "      <td>0.349</td>\n",
       "    </tr>\n",
       "    <tr>\n",
       "      <th>4</th>\n",
       "      <td>TweedieRegressor power:1 aplha: 0</td>\n",
       "      <td>381602</td>\n",
       "      <td>0.000</td>\n",
       "    </tr>\n",
       "    <tr>\n",
       "      <th>5</th>\n",
       "      <td>2nd Degree Polynomial Regression</td>\n",
       "      <td>305602</td>\n",
       "      <td>0.359</td>\n",
       "    </tr>\n",
       "  </tbody>\n",
       "</table>\n",
       "</div>"
      ],
      "text/plain": [
       "                               model  RMSE_validate  r^2_validate\n",
       "0                      mean_baseline         378980         0.000\n",
       "1                      OLS Regressor         307808         0.349\n",
       "2                 Lasso Lars aplha:1         307809         0.349\n",
       "3               Lasso Lars aplha: 25         307980         0.349\n",
       "4  TweedieRegressor power:1 aplha: 0         381602         0.000\n",
       "5   2nd Degree Polynomial Regression         305602         0.359"
      ]
     },
     "execution_count": 38,
     "metadata": {},
     "output_type": "execute_result"
    }
   ],
   "source": [
    "metric_df"
   ]
  },
  {
   "cell_type": "markdown",
   "id": "426fae12",
   "metadata": {},
   "source": [
    "**Key Takeaways**\n",
    " - 2nd degree polynomial regression is my best perfoming model\n",
    " - This will be what i run my test on. "
   ]
  },
  {
   "cell_type": "code",
   "execution_count": 39,
   "id": "768a9848",
   "metadata": {},
   "outputs": [
    {
     "name": "stdout",
     "output_type": "stream",
     "text": [
      "RMSE for OLS Model using LinearRegression\n",
      "Out-of-Sample Performance:  310069\n",
      "r^2_validate: 0.36\n"
     ]
    }
   ],
   "source": [
    "y_test = pd.DataFrame(y_test)\n",
    "\n",
    "# predict on test\n",
    "y_test['tax_value_pred_lm2'] = lm2.predict(X_test_degree3)\n",
    "\n",
    "# evaluate: rmse\n",
    "rmse_test = mean_squared_error(y_test.tax_value, y_test.tax_value_pred_lm2) ** (1/2)\n",
    "\n",
    "print(\"RMSE for OLS Model using LinearRegression\\nOut-of-Sample Performance: \", round(rmse_test))\n",
    "print(f'r^2_validate: {round(explained_variance_score(y_validate.tax_value, y_validate.tax_value_pred_lm2),2)}')"
   ]
  },
  {
   "cell_type": "code",
   "execution_count": 40,
   "id": "616d935c",
   "metadata": {},
   "outputs": [
    {
     "data": {
      "text/plain": [
       "[Text(0, 0.5, 'residual'), Text(0.5, 0, 'Tax Value')]"
      ]
     },
     "execution_count": 40,
     "metadata": {},
     "output_type": "execute_result"
    },
    {
     "data": {
      "image/png": "[encoded data removed]",
      "text/plain": [
       "<Figure size 432x288 with 1 Axes>"
      ]
     },
     "metadata": {},
     "output_type": "display_data"
    }
   ],
   "source": [
    "ax=sns.residplot(x = \"tax_value\",\n",
    "              y = \"tax_value_pred_lm2\",\n",
    "              data = y_test)\n",
    "ax.set( ylabel = \"residual\", xlabel = \"Tax Value\")\n",
    "\n"
   ]
  },
  {
   "cell_type": "markdown",
   "id": "a68915b2",
   "metadata": {},
   "source": [
    "## Conclusion\n",
    "- Best performing model was 2nd degree polynomial \n",
    "- Test Finished with $r^2$ score of .36 and $RMSE^2$ of 310,069 which was **$68,911** more acurate than basline\n",
    "- I believe there are more factors not accounted for  with properties and this model can defineitly be built upon with better features in the future."
   ]
  },
  {
   "cell_type": "markdown",
   "id": "d7ecd94d",
   "metadata": {},
   "source": [
    "## Given more time\n",
    "- I would like to look into the latitude and logitude of these houses,\n",
    "- Find a way to incorporate schools within the area, \n",
    "- Better optimization of features.\n",
    "- A seperate model for houses priced over 1 million dollars. "
   ]
  },
  {
   "cell_type": "code",
   "execution_count": 46,
   "id": "2fa8e6ee",
   "metadata": {},
   "outputs": [
    {
     "data": {
      "text/html": [
       "<div>\n",
       "<style scoped>\n",
       "    .dataframe tbody tr th:only-of-type {\n",
       "        vertical-align: middle;\n",
       "    }\n",
       "\n",
       "    .dataframe tbody tr th {\n",
       "        vertical-align: top;\n",
       "    }\n",
       "\n",
       "    .dataframe thead th {\n",
       "        text-align: right;\n",
       "    }\n",
       "</style>\n",
       "<table border=\"1\" class=\"dataframe\">\n",
       "  <thead>\n",
       "    <tr style=\"text-align: right;\">\n",
       "      <th></th>\n",
       "      <th>tax_value</th>\n",
       "      <th>tax_value_pred_lm2</th>\n",
       "    </tr>\n",
       "    <tr>\n",
       "      <th>parcel_id</th>\n",
       "      <th></th>\n",
       "      <th></th>\n",
       "    </tr>\n",
       "  </thead>\n",
       "  <tbody>\n",
       "    <tr>\n",
       "      <th>12609034</th>\n",
       "      <td>452257</td>\n",
       "      <td>416007.728860</td>\n",
       "    </tr>\n",
       "    <tr>\n",
       "      <th>12696540</th>\n",
       "      <td>741584</td>\n",
       "      <td>452735.877826</td>\n",
       "    </tr>\n",
       "    <tr>\n",
       "      <th>13861824</th>\n",
       "      <td>930423</td>\n",
       "      <td>809308.219439</td>\n",
       "    </tr>\n",
       "    <tr>\n",
       "      <th>11743582</th>\n",
       "      <td>39504</td>\n",
       "      <td>603240.641089</td>\n",
       "    </tr>\n",
       "    <tr>\n",
       "      <th>11449147</th>\n",
       "      <td>341890</td>\n",
       "      <td>243771.451317</td>\n",
       "    </tr>\n",
       "    <tr>\n",
       "      <th>...</th>\n",
       "      <td>...</td>\n",
       "      <td>...</td>\n",
       "    </tr>\n",
       "    <tr>\n",
       "      <th>14229147</th>\n",
       "      <td>743355</td>\n",
       "      <td>863494.058300</td>\n",
       "    </tr>\n",
       "    <tr>\n",
       "      <th>12776296</th>\n",
       "      <td>349661</td>\n",
       "      <td>380226.308985</td>\n",
       "    </tr>\n",
       "    <tr>\n",
       "      <th>11743303</th>\n",
       "      <td>600000</td>\n",
       "      <td>437133.372137</td>\n",
       "    </tr>\n",
       "    <tr>\n",
       "      <th>17097277</th>\n",
       "      <td>336000</td>\n",
       "      <td>330806.671386</td>\n",
       "    </tr>\n",
       "    <tr>\n",
       "      <th>11516511</th>\n",
       "      <td>144320</td>\n",
       "      <td>511402.302449</td>\n",
       "    </tr>\n",
       "  </tbody>\n",
       "</table>\n",
       "<p>5425 rows × 2 columns</p>\n",
       "</div>"
      ],
      "text/plain": [
       "           tax_value  tax_value_pred_lm2\n",
       "parcel_id                               \n",
       "12609034      452257       416007.728860\n",
       "12696540      741584       452735.877826\n",
       "13861824      930423       809308.219439\n",
       "11743582       39504       603240.641089\n",
       "11449147      341890       243771.451317\n",
       "...              ...                 ...\n",
       "14229147      743355       863494.058300\n",
       "12776296      349661       380226.308985\n",
       "11743303      600000       437133.372137\n",
       "17097277      336000       330806.671386\n",
       "11516511      144320       511402.302449\n",
       "\n",
       "[5425 rows x 2 columns]"
      ]
     },
     "execution_count": 46,
     "metadata": {},
     "output_type": "execute_result"
    }
   ],
   "source": [
    "y_test"
   ]
  },
  {
   "cell_type": "code",
   "execution_count": null,
   "id": "4a77f4e8",
   "metadata": {},
   "outputs": [],
   "source": []
  }
 ],
 "metadata": {
  "kernelspec": {
   "display_name": "Python 3",
   "language": "python",
   "name": "python3"
  },
  "language_info": {
   "codemirror_mode": {
    "name": "ipython",
    "version": 3
   },
   "file_extension": ".py",
   "mimetype": "text/x-python",
   "name": "python",
   "nbconvert_exporter": "python",
   "pygments_lexer": "ipython3",
   "version": "3.8.8"
  }
 },
 "nbformat": 4,
 "nbformat_minor": 5
}
